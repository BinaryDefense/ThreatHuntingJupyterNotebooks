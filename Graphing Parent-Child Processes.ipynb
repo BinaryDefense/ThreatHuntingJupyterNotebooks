{
 "cells": [
  {
   "cell_type": "code",
   "execution_count": 47,
   "metadata": {
    "jupyter": {
     "source_hidden": true
    }
   },
   "outputs": [
    {
     "name": "stdout",
     "output_type": "stream",
     "text": [
      "Using matplotlib backend: agg\n",
      "Imports Complete! If there are no errors reported, continue on!\n"
     ]
    }
   ],
   "source": [
    "import sys\n",
    "import requests\n",
    "import json\n",
    "import nltk\n",
    "import math\n",
    "import networkx as nx\n",
    "%matplotlib\n",
    "%matplotlib inline\n",
    "import matplotlib.pyplot as plt\n",
    "from IPython.display import Image\n",
    "MIN_REQ_PYTHON = (3,6)\n",
    "if sys.version_info < MIN_REQ_PYTHON:\n",
    "    print('Check the Kernel->Change Kernel menu and ensure that Python 3.6')\n",
    "    print('or later is selected as the active kernel.')\n",
    "    sys.exit(\"Python %s.%s or later is required.\\n\" % MIN_REQ_PYTHON)\n",
    "\n",
    "#imports\n",
    "import yaml\n",
    "import msticpy.nbtools as nbtools\n",
    "\n",
    "#data library imports\n",
    "from msticpy.data.data_providers import QueryProvider\n",
    "import msticpy.data.data_query_reader as QueryReader\n",
    "from msticpy.data.param_extractor import extract_query_params\n",
    "import msticpy.nbtools as mas\n",
    "from msticpy.nbtools import *\n",
    "from msticpy.sectools import *\n",
    "\n",
    "from msticpy.common.wsconfig import WorkspaceConfig # workspace configurations stored in msticpyconfig.yaml\n",
    "from msticpy.sectools.geoip import GeoLiteLookup # Maxmind GeoCityLite database stored in ~/.msticpy/\n",
    "geoip = GeoLiteLookup()\n",
    "\n",
    "import vt # virus total api\n",
    "import shodan \n",
    "import datetime\n",
    "from datetime import datetime, timedelta\n",
    "\n",
    "import pandas as pd\n",
    "import numpy as np\n",
    "import random\n",
    "import pickle\n",
    "\n",
    "from sklearn.model_selection import train_test_split\n",
    "from sklearn.feature_extraction.text import TfidfVectorizer\n",
    "from sklearn.linear_model import LogisticRegression,BayesianRidge\n",
    "\n",
    "\n",
    "# Import module for progress bars\n",
    "from tqdm.notebook import tqdm, trange\n",
    "\n",
    "# Import the modules needed to create an interactive data frame with IPyWidgets\n",
    "import ipywidgets as widgets\n",
    "from ipywidgets import interactive\n",
    "\n",
    "print('Imports Complete! If there are no errors reported, continue on!')"
   ]
  },
  {
   "cell_type": "code",
   "execution_count": 2,
   "metadata": {
    "jupyter": {
     "source_hidden": true
    }
   },
   "outputs": [],
   "source": [
    "def hierarchy_pos(G, root=None, width=10, vert_gap = 0.2, vert_loc = 0, xcenter = .5):\n",
    "\n",
    "    '''\n",
    "    From Joel's answer at https://stackoverflow.com/a/29597209/2966723.  \n",
    "    Licensed under Creative Commons Attribution-Share Alike \n",
    "    \n",
    "    If the graph is a tree this will return the positions to plot this in a \n",
    "    hierarchical layout.\n",
    "    \n",
    "    G: the graph (must be a tree)\n",
    "    \n",
    "    root: the root node of current branch \n",
    "    - if the tree is directed and this is not given, \n",
    "      the root will be found and used\n",
    "    - if the tree is directed and this is given, then \n",
    "      the positions will be just for the descendants of this node.\n",
    "    - if the tree is undirected and not given, \n",
    "      then a random choice will be used.\n",
    "    \n",
    "    width: horizontal space allocated for this branch - avoids overlap with other branches\n",
    "    \n",
    "    vert_gap: gap between levels of hierarchy\n",
    "    \n",
    "    vert_loc: vertical location of root\n",
    "    \n",
    "    xcenter: horizontal location of root\n",
    "    '''\n",
    "    if not nx.is_tree(G):\n",
    "        raise TypeError('cannot use hierarchy_pos on a graph that is not a tree')\n",
    "\n",
    "    if root is None:\n",
    "        if isinstance(G, nx.DiGraph):\n",
    "            root = next(iter(nx.topological_sort(G)))  #allows back compatibility with nx version 1.11\n",
    "        else:\n",
    "            root = random.choice(list(G.nodes))\n",
    "\n",
    "    def _hierarchy_pos(G, root, width=.1, vert_gap = 0.5, vert_loc = 0, xcenter = .1, pos = None, parent = None):\n",
    "        '''\n",
    "        see hierarchy_pos docstring for most arguments\n",
    "\n",
    "        pos: a dict saying where all nodes go if they have been assigned\n",
    "        parent: parent of this branch. - only affects it if non-directed\n",
    "\n",
    "        '''\n",
    "    \n",
    "        if pos is None:\n",
    "            pos = {root:(xcenter,vert_loc)}\n",
    "        else:\n",
    "            pos[root] = (xcenter, vert_loc)\n",
    "        children = list(G.neighbors(root))\n",
    "        if not isinstance(G, nx.DiGraph) and parent is not None:\n",
    "            children.remove(parent)  \n",
    "        if len(children)!=0:\n",
    "            dx = width/len(children) \n",
    "            nextx = xcenter - width/2 - dx/2\n",
    "            for child in children:\n",
    "                nextx += dx\n",
    "                pos = _hierarchy_pos(G,child, width = dx, vert_gap = vert_gap, \n",
    "                                    vert_loc = vert_loc-vert_gap, xcenter=nextx,\n",
    "                                    pos=pos, parent = root)\n",
    "        return pos\n",
    "\n",
    "            \n",
    "    return _hierarchy_pos(G, root, width, vert_gap, vert_loc, xcenter)"
   ]
  },
  {
   "cell_type": "code",
   "execution_count": 3,
   "metadata": {
    "collapsed": true,
    "jupyter": {
     "outputs_hidden": true
    }
   },
   "outputs": [
    {
     "name": "stdout",
     "output_type": "stream",
     "text": [
      "Please wait. Loading Kqlmagic extension...\n"
     ]
    },
    {
     "data": {
      "application/javascript": [
       "try {IPython.notebook.kernel.reconnect();} catch(err) {;}"
      ],
      "text/plain": [
       "<IPython.core.display.Javascript object>"
      ]
     },
     "metadata": {},
     "output_type": "display_data"
    },
    {
     "data": {
      "application/javascript": [
       "try {IPython.notebook.kernel.execute(\"NOTEBOOK_URL = '\" + window.location + \"'\");} catch(err) {;}"
      ],
      "text/plain": [
       "<IPython.core.display.Javascript object>"
      ]
     },
     "metadata": {},
     "output_type": "display_data"
    },
    {
     "data": {
      "text/html": [
       "<html>\n",
       "            <head>\n",
       "            <title>Kqlmagic - banner</title>\n",
       "            <style>\n",
       "            .kql-magic-banner {\n",
       "                display: flex; \n",
       "                background-color: #d9edf7;\n",
       "            }\n",
       "            .kql-magic-banner > div {\n",
       "                margin: 10px; \n",
       "                padding: 20px; \n",
       "                color: #3a87ad; \n",
       "                font-size: 13px;\n",
       "            }\n",
       "            </style>\n",
       "            </head>\n",
       "            <body>\n",
       "                <div class='kql-magic-banner'>\n",
       "                    <div><img src='data:image/png;base64,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'></div>\n",
       "                    <div>\n",
       "                        <p>Kql Query Language, aka kql, is the query language for advanced analytics on Azure Monitor resources. The current supported data sources are \n",
       "                        Azure Data Explorer (Kusto), Log Analytics and Application Insights. To get more information execute '%kql --help \"kql\"'</p>\n",
       "                        <p>   \n",
       "                          &bull; \n",
       "                kql reference: Click on 'Help' tab > and Select 'kql reference' or execute '%kql --help \"kql\"'<br>\n",
       "                          &bull; \n",
       "                Kqlmagic configuration: execute '%config Kqlmagic'<br>\n",
       "                          &bull; \n",
       "                Kqlmagic usage: execute '%kql --usage'<br>\n",
       "                        </p> \n",
       "                    </div>\n",
       "                </div>\n",
       "            </body>\n",
       "            </html>"
      ],
      "text/plain": [
       "<IPython.core.display.HTML object>"
      ]
     },
     "metadata": {},
     "output_type": "display_data"
    },
    {
     "data": {
      "text/html": [
       "<html>\n",
       "        <head>\n",
       "            \n",
       "            \n",
       "        </head>\n",
       "        <body>\n",
       "            <div><p style='padding: 10px; color: #3a87ad; background-color: #d9edf7; border-color: #bce9f1'>Kqlmagic&nbsp;package&nbsp;is&nbsp;updated&nbsp;frequently.&nbsp;Run&nbsp;&apos;!pip&nbsp;install&nbsp;Kqlmagic&nbsp;--no-cache-dir&nbsp;--upgrade&apos;&nbsp;to&nbsp;use&nbsp;the&nbsp;latest&nbsp;version.<br>Kqlmagic&nbsp;version:&nbsp;0.1.113.post1,&nbsp;source:&nbsp;https://github.com/Microsoft/jupyter-Kqlmagic</p></div>\n",
       "        </body>\n",
       "        </html>"
      ],
      "text/plain": [
       "<IPython.core.display.HTML object>"
      ]
     },
     "metadata": {},
     "output_type": "display_data"
    },
    {
     "data": {
      "text/html": [
       "<!DOCTYPE html>\n",
       "            <html><body>\n",
       "            <div style='padding: 10px; color: #3a87ad; background-color: #d9edf7; border-color: #bce9f1'>\n",
       "            Click to find out what's new in Kqlmagic \n",
       "            <button onclick=\"this.style.visibility='visible';\n",
       "            kql_MagicLaunchWindowFunction('kqlmagic/temp_files/868111b6-1c2d-41c7-9f7c-5a417af21de6/what_new_history.html', 'fullscreen=no,directories=no,location=no,menubar=no,resizable=yes,scrollbars=yes,status=no,titlebar=no,toolbar=no,', 'what_new_history', '');\n",
       "            kql_MagicCloseWindow(kql_Magic_what_new_history, -1, -1);\">\n",
       "            What's New? </button>\n",
       "            </div>\n",
       "\n",
       "            <script>\n",
       "            var kql_Magic_what_new_history = null;\n",
       "\n",
       "\n",
       "            function kql_MagicCloseWindow(window_obj, obj_secs, itself_secs) {\n",
       "                if (obj_secs >= 0) {\n",
       "                    _timeout = setTimeout(function(){\n",
       "                        window_obj.close();\n",
       "                        if (itself_secs >= 0) {\n",
       "                            __timeout = setTimeout(function(){window.close();}, itself_secs * 1000);\n",
       "                        }\n",
       "                    }, obj_secs * 1000);\n",
       "                } else if (itself_secs >= 0) {\n",
       "                    _timeout = setTimeout(function(){window.close();}, itself_secs * 1000);\n",
       "                }\n",
       "            }\n",
       "\n",
       "            function kql_MagicLaunchWindowFunction(file_path, window_params, window_name, host_or_text) {\n",
       "                var url;\n",
       "                if (host_or_text == 'text') {\n",
       "                    url = ''\n",
       "                } else if (file_path.startsWith('http')) {\n",
       "                    url = file_path;\n",
       "                } else {\n",
       "                    var base_url = '';\n",
       "\n",
       "                    // check if azure notebook\n",
       "                    var azure_host = (host_or_text == null || host_or_text.length == 0) ? 'https://notebooks.azure.com' : host_or_text;\n",
       "                    var start = azure_host.search('//');\n",
       "                    var azure_host_suffix = '.' + azure_host.substring(start+2);\n",
       "\n",
       "                    var loc = String(window.location);\n",
       "                    var end = loc.search(azure_host_suffix);\n",
       "                    start = loc.search('//');\n",
       "                    if (start > 0 && end > 0) {\n",
       "                        var parts = loc.substring(start+2, end).split('-');\n",
       "                        if (parts.length == 2) {\n",
       "                            var library = parts[0];\n",
       "                            var user = parts[1];\n",
       "                            base_url = azure_host + '/api/user/' +user+ '/library/' +library+ '/html/';\n",
       "                        }\n",
       "                    }\n",
       "\n",
       "                    // check if local jupyter lab\n",
       "                    if (base_url.length == 0) {\n",
       "                        var configDataScipt  = document.getElementById('jupyter-config-data');\n",
       "                        if (configDataScipt != null) {\n",
       "                            var jupyterConfigData = JSON.parse(configDataScipt.textContent);\n",
       "                            if (jupyterConfigData['appName'] == 'JupyterLab' && jupyterConfigData['serverRoot'] != null &&  jupyterConfigData['treeUrl'] != null) {\n",
       "                                var basePath = '/opt/jupyter/notebooks' + '/';\n",
       "                                if (basePath.startsWith(jupyterConfigData['serverRoot'])) {\n",
       "                                    base_url = '/files/' + basePath.substring(jupyterConfigData['serverRoot'].length+1);\n",
       "                                }\n",
       "                            }\n",
       "                        }\n",
       "                    }\n",
       "\n",
       "                    // assume local jupyter notebook\n",
       "                    if (base_url.length == 0) {\n",
       "\n",
       "                        var parts = loc.split('/');\n",
       "                        parts.pop();\n",
       "                        base_url = parts.join('/') + '/';\n",
       "                    }\n",
       "                    url = base_url + file_path;\n",
       "                }\n",
       "\n",
       "                window.focus();\n",
       "                var w = screen.width / 2;\n",
       "                var h = screen.height / 2;\n",
       "                params = 'width='+w+',height='+h;\n",
       "                // kql_Magic + window_name should be a global variable \n",
       "                window_obj = window.open(url, window_name, window_params + params);\n",
       "                if (url == '') {\n",
       "                    var el = window_obj.document.createElement('p');\n",
       "                    window_obj.document.body.overflow = 'auto';\n",
       "                    el.style.top = 0;\n",
       "                    el.style.left = 0;\n",
       "                    el.innerHTML = file_path;\n",
       "                    window_obj.document.body.appendChild(el);\n",
       "                }\n",
       "                kql_Magic_what_new_history = window_obj;\n",
       "            }\n",
       "            </script>\n",
       "\n",
       "            </body></html>"
      ],
      "text/plain": [
       "<IPython.core.display.HTML object>"
      ]
     },
     "metadata": {},
     "output_type": "display_data"
    },
    {
     "data": {
      "application/javascript": [
       "try {IPython.notebook.kernel.execute(\"NOTEBOOK_URL = '\" + window.location + \"'\");} catch(err) {;}"
      ],
      "text/plain": [
       "<IPython.core.display.Javascript object>"
      ]
     },
     "metadata": {},
     "output_type": "display_data"
    },
    {
     "data": {
      "text/html": [
       "<!DOCTYPE html>\n",
       "                            <html><body>\n",
       "\n",
       "                            <!-- h1 id=\"user_code_p\"><b>AXWMTL4WF</b><br></h1-->\n",
       "\n",
       "                            <input  id=\"kql_MagicCodeAuthInput\" type=\"text\" readonly style=\"font-weight: bold; border: none;\" size = '9' value='AXWMTL4WF'>\n",
       "\n",
       "                            <button id='kql_MagicCodeAuth_button', onclick=\"this.style.visibility='hidden';kql_MagicCodeAuthFunction()\">Copy code to clipboard and authenticate</button>\n",
       "\n",
       "                            <script>\n",
       "                            var kql_MagicUserCodeAuthWindow = null;\n",
       "                            function kql_MagicCodeAuthFunction() {\n",
       "                                /* Get the text field */\n",
       "                                var copyText = document.getElementById(\"kql_MagicCodeAuthInput\");\n",
       "\n",
       "                                /* Select the text field */\n",
       "                                copyText.select();\n",
       "\n",
       "                                /* Copy the text inside the text field */\n",
       "                                document.execCommand(\"copy\");\n",
       "\n",
       "                                /* Alert the copied text */\n",
       "                                // alert(\"Copied the text: \" + copyText.value);\n",
       "\n",
       "                                var w = screen.width / 2;\n",
       "                                var h = screen.height / 2;\n",
       "                                params = 'width='+w+',height='+h\n",
       "                                kql_MagicUserCodeAuthWindow = window.open('https://microsoft.com/devicelogin', 'kql_MagicUserCodeAuthWindow', params);\n",
       "\n",
       "                                // TODO: save selected cell index, so that the clear will be done on the lince cell\n",
       "                            }\n",
       "                            </script>\n",
       "\n",
       "                            </body></html>"
      ],
      "text/plain": [
       "<IPython.core.display.HTML object>"
      ]
     },
     "metadata": {},
     "output_type": "display_data"
    },
    {
     "data": {
      "text/html": [
       "<!DOCTYPE html>\n",
       "                            <html><body><script>\n",
       "\n",
       "                                // close authentication window\n",
       "                                if (kql_MagicUserCodeAuthWindow && kql_MagicUserCodeAuthWindow.opener != null && !kql_MagicUserCodeAuthWindow.closed) {\n",
       "                                    kql_MagicUserCodeAuthWindow.close()\n",
       "                                }\n",
       "                                // TODO: make sure, you clear the right cell. BTW, not sure it is a must to do any clearing\n",
       "\n",
       "                                // clear output cell\n",
       "                                Jupyter.notebook.clear_output(Jupyter.notebook.get_selected_index())\n",
       "\n",
       "                                // TODO: if in run all mode, move to last cell, otherwise move to next cell\n",
       "                                // move to next cell\n",
       "\n",
       "                            </script></body></html>"
      ],
      "text/plain": [
       "<IPython.core.display.HTML object>"
      ]
     },
     "metadata": {},
     "output_type": "display_data"
    },
    {
     "data": {
      "text/html": [
       "<!DOCTYPE html>\n",
       "            <html><body>\n",
       "            <div style=''>\n",
       "            \n",
       "            <button onclick=\"this.style.visibility='visible';\n",
       "            kql_MagicLaunchWindowFunction('kqlmagic/temp_files/868111b6-1c2d-41c7-9f7c-5a417af21de6/_85f22252-3ea4-4bc0-9ed7-7d91f427dd58_at_loganalytics_schema.html', 'fullscreen=no,directories=no,location=no,menubar=no,resizable=yes,scrollbars=yes,status=no,titlebar=no,toolbar=no,', '_85f22252_3ea4_4bc0_9ed7_7d91f427dd58_at_loganalytics_schema', '');\n",
       "            kql_MagicCloseWindow(kql_Magic__85f22252_3ea4_4bc0_9ed7_7d91f427dd58_at_loganalytics_schema, -1, -1);\">\n",
       "            popup schema 85f22252-3ea4-4bc0-9ed7-7d91f427dd58@loganalytics</button>\n",
       "            </div>\n",
       "\n",
       "            <script>\n",
       "            var kql_Magic__85f22252_3ea4_4bc0_9ed7_7d91f427dd58_at_loganalytics_schema = null;\n",
       "\n",
       "\n",
       "            function kql_MagicCloseWindow(window_obj, obj_secs, itself_secs) {\n",
       "                if (obj_secs >= 0) {\n",
       "                    _timeout = setTimeout(function(){\n",
       "                        window_obj.close();\n",
       "                        if (itself_secs >= 0) {\n",
       "                            __timeout = setTimeout(function(){window.close();}, itself_secs * 1000);\n",
       "                        }\n",
       "                    }, obj_secs * 1000);\n",
       "                } else if (itself_secs >= 0) {\n",
       "                    _timeout = setTimeout(function(){window.close();}, itself_secs * 1000);\n",
       "                }\n",
       "            }\n",
       "\n",
       "            function kql_MagicLaunchWindowFunction(file_path, window_params, window_name, host_or_text) {\n",
       "                var url;\n",
       "                if (host_or_text == 'text') {\n",
       "                    url = ''\n",
       "                } else if (file_path.startsWith('http')) {\n",
       "                    url = file_path;\n",
       "                } else {\n",
       "                    var base_url = '';\n",
       "\n",
       "                    // check if azure notebook\n",
       "                    var azure_host = (host_or_text == null || host_or_text.length == 0) ? 'https://notebooks.azure.com' : host_or_text;\n",
       "                    var start = azure_host.search('//');\n",
       "                    var azure_host_suffix = '.' + azure_host.substring(start+2);\n",
       "\n",
       "                    var loc = String(window.location);\n",
       "                    var end = loc.search(azure_host_suffix);\n",
       "                    start = loc.search('//');\n",
       "                    if (start > 0 && end > 0) {\n",
       "                        var parts = loc.substring(start+2, end).split('-');\n",
       "                        if (parts.length == 2) {\n",
       "                            var library = parts[0];\n",
       "                            var user = parts[1];\n",
       "                            base_url = azure_host + '/api/user/' +user+ '/library/' +library+ '/html/';\n",
       "                        }\n",
       "                    }\n",
       "\n",
       "                    // check if local jupyter lab\n",
       "                    if (base_url.length == 0) {\n",
       "                        var configDataScipt  = document.getElementById('jupyter-config-data');\n",
       "                        if (configDataScipt != null) {\n",
       "                            var jupyterConfigData = JSON.parse(configDataScipt.textContent);\n",
       "                            if (jupyterConfigData['appName'] == 'JupyterLab' && jupyterConfigData['serverRoot'] != null &&  jupyterConfigData['treeUrl'] != null) {\n",
       "                                var basePath = '/opt/jupyter/notebooks' + '/';\n",
       "                                if (basePath.startsWith(jupyterConfigData['serverRoot'])) {\n",
       "                                    base_url = '/files/' + basePath.substring(jupyterConfigData['serverRoot'].length+1);\n",
       "                                }\n",
       "                            }\n",
       "                        }\n",
       "                    }\n",
       "\n",
       "                    // assume local jupyter notebook\n",
       "                    if (base_url.length == 0) {\n",
       "\n",
       "                        var parts = loc.split('/');\n",
       "                        parts.pop();\n",
       "                        base_url = parts.join('/') + '/';\n",
       "                    }\n",
       "                    url = base_url + file_path;\n",
       "                }\n",
       "\n",
       "                window.focus();\n",
       "                var w = screen.width / 2;\n",
       "                var h = screen.height / 2;\n",
       "                params = 'width='+w+',height='+h;\n",
       "                // kql_Magic + window_name should be a global variable \n",
       "                window_obj = window.open(url, window_name, window_params + params);\n",
       "                if (url == '') {\n",
       "                    var el = window_obj.document.createElement('p');\n",
       "                    window_obj.document.body.overflow = 'auto';\n",
       "                    el.style.top = 0;\n",
       "                    el.style.left = 0;\n",
       "                    el.innerHTML = file_path;\n",
       "                    window_obj.document.body.appendChild(el);\n",
       "                }\n",
       "                kql_Magic__85f22252_3ea4_4bc0_9ed7_7d91f427dd58_at_loganalytics_schema = window_obj;\n",
       "            }\n",
       "            </script>\n",
       "\n",
       "            </body></html>"
      ],
      "text/plain": [
       "<IPython.core.display.HTML object>"
      ]
     },
     "metadata": {},
     "output_type": "display_data"
    },
    {
     "data": {
      "application/javascript": [
       "try {IPython.notebook.kernel.execute(\"NOTEBOOK_URL = '\" + window.location + \"'\");} catch(err) {;}"
      ],
      "text/plain": [
       "<IPython.core.display.Javascript object>"
      ]
     },
     "metadata": {},
     "output_type": "display_data"
    }
   ],
   "source": [
    "## Create a QueryProvider object for running queries in our LogAnalytics workspace\n",
    "qry_prov = QueryProvider(data_environment='LogAnalytics')\n",
    "## Use a workspace configuration with the name in msticpyconfig.yaml (you can also choose another workspace here)\n",
    "ws_config = WorkspaceConfig(workspace=\"Default\")\n",
    "qry_prov.connect(connection_str=ws_config.code_connect_str)"
   ]
  },
  {
   "cell_type": "markdown",
   "metadata": {},
   "source": [
    "# Parent Child Relationship Tree\n",
    "\n",
    "With a collection of identifiers for processes and their parents, we can visualize the relationship through a directed graph which can be viewed to form a hierarchical graph. Focusing on a set of related processes can determine what actions, child processes, or network connections a singular process made in a given period."
   ]
  },
  {
   "cell_type": "markdown",
   "metadata": {},
   "source": [
    "## 1a. Query \n",
    "\n",
    "It should be noted that this query can be changed to any EventID as so long as the writer\n",
    "can make the necessary changes in section 1c. In this case, we are focused on the parent-child relationship\n",
    "between processes. The process in this case we are focused in on has the GUID of {8b54b755-561e-604f-c263-000000002a00}.\n",
    "The query will pull every process who has the parent GUID of {8b54b755-561e-604f-c263-000000002a00} and return:\n",
    "- Time \n",
    "- New child process path\n",
    "- New child process command line\n",
    "- New child process ID\n",
    "- New child process GUID\n",
    "- Parent process ID\n",
    "- Parent process GUID"
   ]
  },
  {
   "cell_type": "code",
   "execution_count": 61,
   "metadata": {},
   "outputs": [
    {
     "data": {
      "application/javascript": [
       "try {IPython.notebook.kernel.execute(\"NOTEBOOK_URL = '\" + window.location + \"'\");} catch(err) {;}"
      ],
      "text/plain": [
       "<IPython.core.display.Javascript object>"
      ]
     },
     "metadata": {},
     "output_type": "display_data"
    }
   ],
   "source": [
    "pid_query = '''\n",
    "Sysmon\n",
    "| where EventID == 1\n",
    "| sort by TimeGenerated desc\n",
    "| where InitiatingProcessGuid == \"{8b54b755-561e-604f-c263-000000002a00}\"\n",
    "| project TimeGenerated, ProcessPath, ProcessCommandLine, ProcessId ,ProcessGuid, InitiatingProcessFile,InitiatingProcessGuid\n",
    "'''\n",
    "ProcessSearch = qry_prov.exec_query(query = pid_query)\n"
   ]
  },
  {
   "cell_type": "markdown",
   "metadata": {},
   "source": [
    "## 1b. Results\n",
    "\n",
    "As we can see, there are several different child processes spawned by {8b54b755-561e-604f-c263-000000002a00}, and we need to get a better grasp as to what is going on."
   ]
  },
  {
   "cell_type": "code",
   "execution_count": 62,
   "metadata": {},
   "outputs": [
    {
     "data": {
      "text/html": [
       "<div>\n",
       "<style scoped>\n",
       "    .dataframe tbody tr th:only-of-type {\n",
       "        vertical-align: middle;\n",
       "    }\n",
       "\n",
       "    .dataframe tbody tr th {\n",
       "        vertical-align: top;\n",
       "    }\n",
       "\n",
       "    .dataframe thead th {\n",
       "        text-align: right;\n",
       "    }\n",
       "</style>\n",
       "<table border=\"1\" class=\"dataframe\">\n",
       "  <thead>\n",
       "    <tr style=\"text-align: right;\">\n",
       "      <th></th>\n",
       "      <th>TimeGenerated</th>\n",
       "      <th>ProcessPath</th>\n",
       "      <th>ProcessCommandLine</th>\n",
       "      <th>ProcessId</th>\n",
       "      <th>ProcessGuid</th>\n",
       "      <th>InitiatingProcessFile</th>\n",
       "      <th>InitiatingProcessGuid</th>\n",
       "    </tr>\n",
       "  </thead>\n",
       "  <tbody>\n",
       "    <tr>\n",
       "      <th>0</th>\n",
       "      <td>2021-03-15 13:08:47.130000+00:00</td>\n",
       "      <td>C:\\Windows\\System32\\cmd.exe</td>\n",
       "      <td>C:\\WINDOWS\\system32\\cmd.exe /C psexec.exe -acc...</td>\n",
       "      <td>10376</td>\n",
       "      <td>{8b54b755-5c5f-604f-7164-000000002a00}</td>\n",
       "      <td>C:\\Windows\\SysWOW64\\rundll32.exe</td>\n",
       "      <td>{8b54b755-561e-604f-c263-000000002a00}</td>\n",
       "    </tr>\n",
       "    <tr>\n",
       "      <th>1</th>\n",
       "      <td>2021-03-15 13:08:44.443000+00:00</td>\n",
       "      <td>C:\\Windows\\System32\\cmd.exe</td>\n",
       "      <td>C:\\WINDOWS\\system32\\cmd.exe /C copy 19560.dll ...</td>\n",
       "      <td>4636</td>\n",
       "      <td>{8b54b755-5c5c-604f-6f64-000000002a00}</td>\n",
       "      <td>C:\\Windows\\SysWOW64\\rundll32.exe</td>\n",
       "      <td>{8b54b755-561e-604f-c263-000000002a00}</td>\n",
       "    </tr>\n",
       "    <tr>\n",
       "      <th>2</th>\n",
       "      <td>2021-03-15 13:06:58.260000+00:00</td>\n",
       "      <td>C:\\Windows\\System32\\cmd.exe</td>\n",
       "      <td>C:\\WINDOWS\\system32\\cmd.exe /C net group \"Doma...</td>\n",
       "      <td>5320</td>\n",
       "      <td>{8b54b755-5bf2-604f-5d64-000000002a00}</td>\n",
       "      <td>C:\\Windows\\SysWOW64\\rundll32.exe</td>\n",
       "      <td>{8b54b755-561e-604f-c263-000000002a00}</td>\n",
       "    </tr>\n",
       "    <tr>\n",
       "      <th>3</th>\n",
       "      <td>2021-03-15 13:05:26.180000+00:00</td>\n",
       "      <td>C:\\Windows\\System32\\cmd.exe</td>\n",
       "      <td>C:\\WINDOWS\\system32\\cmd.exe /C nltest /dclist:</td>\n",
       "      <td>13896</td>\n",
       "      <td>{8b54b755-5b96-604f-4064-000000002a00}</td>\n",
       "      <td>C:\\Windows\\SysWOW64\\rundll32.exe</td>\n",
       "      <td>{8b54b755-561e-604f-c263-000000002a00}</td>\n",
       "    </tr>\n",
       "    <tr>\n",
       "      <th>4</th>\n",
       "      <td>2021-03-15 13:05:05.317000+00:00</td>\n",
       "      <td>C:\\Windows\\System32\\cmd.exe</td>\n",
       "      <td>C:\\WINDOWS\\system32\\cmd.exe /C c:\\windows\\sysn...</td>\n",
       "      <td>7180</td>\n",
       "      <td>{8b54b755-5b81-604f-3c64-000000002a00}</td>\n",
       "      <td>C:\\Windows\\SysWOW64\\rundll32.exe</td>\n",
       "      <td>{8b54b755-561e-604f-c263-000000002a00}</td>\n",
       "    </tr>\n",
       "    <tr>\n",
       "      <th>5</th>\n",
       "      <td>2021-03-15 13:04:23.320000+00:00</td>\n",
       "      <td>C:\\Windows\\SysWOW64\\cmd.exe</td>\n",
       "      <td>C:\\WINDOWS\\system32\\cmd.exe /C whoami</td>\n",
       "      <td>13840</td>\n",
       "      <td>{8b54b755-5b57-604f-3864-000000002a00}</td>\n",
       "      <td>C:\\Windows\\SysWOW64\\rundll32.exe</td>\n",
       "      <td>{8b54b755-561e-604f-c263-000000002a00}</td>\n",
       "    </tr>\n",
       "    <tr>\n",
       "      <th>6</th>\n",
       "      <td>2021-03-15 12:58:12.520000+00:00</td>\n",
       "      <td>C:\\Windows\\SysWOW64\\cmd.exe</td>\n",
       "      <td>C:\\WINDOWS\\system32\\cmd.exe /C c:\\windows\\sysn...</td>\n",
       "      <td>10924</td>\n",
       "      <td>{8b54b755-59e4-604f-1d64-000000002a00}</td>\n",
       "      <td>C:\\Windows\\SysWOW64\\rundll32.exe</td>\n",
       "      <td>{8b54b755-561e-604f-c263-000000002a00}</td>\n",
       "    </tr>\n",
       "    <tr>\n",
       "      <th>7</th>\n",
       "      <td>2021-03-15 12:55:49.230000+00:00</td>\n",
       "      <td>C:\\Windows\\SysWOW64\\cmd.exe</td>\n",
       "      <td>C:\\WINDOWS\\system32\\cmd.exe /C nltest /domain_...</td>\n",
       "      <td>8596</td>\n",
       "      <td>{8b54b755-5955-604f-1064-000000002a00}</td>\n",
       "      <td>C:\\Windows\\SysWOW64\\rundll32.exe</td>\n",
       "      <td>{8b54b755-561e-604f-c263-000000002a00}</td>\n",
       "    </tr>\n",
       "    <tr>\n",
       "      <th>8</th>\n",
       "      <td>2021-03-15 12:50:20.080000+00:00</td>\n",
       "      <td>C:\\Windows\\SysWOW64\\cmd.exe</td>\n",
       "      <td>C:\\WINDOWS\\system32\\cmd.exe /C net group \"Ente...</td>\n",
       "      <td>7076</td>\n",
       "      <td>{8b54b755-580c-604f-f963-000000002a00}</td>\n",
       "      <td>C:\\Windows\\SysWOW64\\rundll32.exe</td>\n",
       "      <td>{8b54b755-561e-604f-c263-000000002a00}</td>\n",
       "    </tr>\n",
       "    <tr>\n",
       "      <th>9</th>\n",
       "      <td>2021-03-15 12:50:19.637000+00:00</td>\n",
       "      <td>C:\\Windows\\SysWOW64\\cmd.exe</td>\n",
       "      <td>C:\\WINDOWS\\system32\\cmd.exe /C net group \"Doma...</td>\n",
       "      <td>7368</td>\n",
       "      <td>{8b54b755-580b-604f-f563-000000002a00}</td>\n",
       "      <td>C:\\Windows\\SysWOW64\\rundll32.exe</td>\n",
       "      <td>{8b54b755-561e-604f-c263-000000002a00}</td>\n",
       "    </tr>\n",
       "    <tr>\n",
       "      <th>10</th>\n",
       "      <td>2021-03-15 12:50:19.460000+00:00</td>\n",
       "      <td>C:\\Windows\\SysWOW64\\cmd.exe</td>\n",
       "      <td>C:\\WINDOWS\\system32\\cmd.exe /C nltest /domain_...</td>\n",
       "      <td>13900</td>\n",
       "      <td>{8b54b755-580b-604f-f363-000000002a00}</td>\n",
       "      <td>C:\\Windows\\SysWOW64\\rundll32.exe</td>\n",
       "      <td>{8b54b755-561e-604f-c263-000000002a00}</td>\n",
       "    </tr>\n",
       "    <tr>\n",
       "      <th>11</th>\n",
       "      <td>2021-03-15 12:50:18.887000+00:00</td>\n",
       "      <td>C:\\Windows\\SysWOW64\\cmd.exe</td>\n",
       "      <td>C:\\WINDOWS\\system32\\cmd.exe /C nltest /dclist:</td>\n",
       "      <td>10980</td>\n",
       "      <td>{8b54b755-580a-604f-f163-000000002a00}</td>\n",
       "      <td>C:\\Windows\\SysWOW64\\rundll32.exe</td>\n",
       "      <td>{8b54b755-561e-604f-c263-000000002a00}</td>\n",
       "    </tr>\n",
       "    <tr>\n",
       "      <th>12</th>\n",
       "      <td>2021-03-15 12:47:00.610000+00:00</td>\n",
       "      <td>C:\\Windows\\SysWOW64\\cmd.exe</td>\n",
       "      <td>C:\\WINDOWS\\system32\\cmd.exe /C gpupdate /force</td>\n",
       "      <td>2304</td>\n",
       "      <td>{8b54b755-5744-604f-d163-000000002a00}</td>\n",
       "      <td>C:\\Windows\\SysWOW64\\rundll32.exe</td>\n",
       "      <td>{8b54b755-561e-604f-c263-000000002a00}</td>\n",
       "    </tr>\n",
       "  </tbody>\n",
       "</table>\n",
       "</div>"
      ],
      "text/plain": [
       "                      TimeGenerated                  ProcessPath  \\\n",
       "0  2021-03-15 13:08:47.130000+00:00  C:\\Windows\\System32\\cmd.exe   \n",
       "1  2021-03-15 13:08:44.443000+00:00  C:\\Windows\\System32\\cmd.exe   \n",
       "2  2021-03-15 13:06:58.260000+00:00  C:\\Windows\\System32\\cmd.exe   \n",
       "3  2021-03-15 13:05:26.180000+00:00  C:\\Windows\\System32\\cmd.exe   \n",
       "4  2021-03-15 13:05:05.317000+00:00  C:\\Windows\\System32\\cmd.exe   \n",
       "5  2021-03-15 13:04:23.320000+00:00  C:\\Windows\\SysWOW64\\cmd.exe   \n",
       "6  2021-03-15 12:58:12.520000+00:00  C:\\Windows\\SysWOW64\\cmd.exe   \n",
       "7  2021-03-15 12:55:49.230000+00:00  C:\\Windows\\SysWOW64\\cmd.exe   \n",
       "8  2021-03-15 12:50:20.080000+00:00  C:\\Windows\\SysWOW64\\cmd.exe   \n",
       "9  2021-03-15 12:50:19.637000+00:00  C:\\Windows\\SysWOW64\\cmd.exe   \n",
       "10 2021-03-15 12:50:19.460000+00:00  C:\\Windows\\SysWOW64\\cmd.exe   \n",
       "11 2021-03-15 12:50:18.887000+00:00  C:\\Windows\\SysWOW64\\cmd.exe   \n",
       "12 2021-03-15 12:47:00.610000+00:00  C:\\Windows\\SysWOW64\\cmd.exe   \n",
       "\n",
       "                                   ProcessCommandLine  ProcessId  \\\n",
       "0   C:\\WINDOWS\\system32\\cmd.exe /C psexec.exe -acc...      10376   \n",
       "1   C:\\WINDOWS\\system32\\cmd.exe /C copy 19560.dll ...       4636   \n",
       "2   C:\\WINDOWS\\system32\\cmd.exe /C net group \"Doma...       5320   \n",
       "3      C:\\WINDOWS\\system32\\cmd.exe /C nltest /dclist:      13896   \n",
       "4   C:\\WINDOWS\\system32\\cmd.exe /C c:\\windows\\sysn...       7180   \n",
       "5               C:\\WINDOWS\\system32\\cmd.exe /C whoami      13840   \n",
       "6   C:\\WINDOWS\\system32\\cmd.exe /C c:\\windows\\sysn...      10924   \n",
       "7   C:\\WINDOWS\\system32\\cmd.exe /C nltest /domain_...       8596   \n",
       "8   C:\\WINDOWS\\system32\\cmd.exe /C net group \"Ente...       7076   \n",
       "9   C:\\WINDOWS\\system32\\cmd.exe /C net group \"Doma...       7368   \n",
       "10  C:\\WINDOWS\\system32\\cmd.exe /C nltest /domain_...      13900   \n",
       "11     C:\\WINDOWS\\system32\\cmd.exe /C nltest /dclist:      10980   \n",
       "12     C:\\WINDOWS\\system32\\cmd.exe /C gpupdate /force       2304   \n",
       "\n",
       "                               ProcessGuid             InitiatingProcessFile  \\\n",
       "0   {8b54b755-5c5f-604f-7164-000000002a00}  C:\\Windows\\SysWOW64\\rundll32.exe   \n",
       "1   {8b54b755-5c5c-604f-6f64-000000002a00}  C:\\Windows\\SysWOW64\\rundll32.exe   \n",
       "2   {8b54b755-5bf2-604f-5d64-000000002a00}  C:\\Windows\\SysWOW64\\rundll32.exe   \n",
       "3   {8b54b755-5b96-604f-4064-000000002a00}  C:\\Windows\\SysWOW64\\rundll32.exe   \n",
       "4   {8b54b755-5b81-604f-3c64-000000002a00}  C:\\Windows\\SysWOW64\\rundll32.exe   \n",
       "5   {8b54b755-5b57-604f-3864-000000002a00}  C:\\Windows\\SysWOW64\\rundll32.exe   \n",
       "6   {8b54b755-59e4-604f-1d64-000000002a00}  C:\\Windows\\SysWOW64\\rundll32.exe   \n",
       "7   {8b54b755-5955-604f-1064-000000002a00}  C:\\Windows\\SysWOW64\\rundll32.exe   \n",
       "8   {8b54b755-580c-604f-f963-000000002a00}  C:\\Windows\\SysWOW64\\rundll32.exe   \n",
       "9   {8b54b755-580b-604f-f563-000000002a00}  C:\\Windows\\SysWOW64\\rundll32.exe   \n",
       "10  {8b54b755-580b-604f-f363-000000002a00}  C:\\Windows\\SysWOW64\\rundll32.exe   \n",
       "11  {8b54b755-580a-604f-f163-000000002a00}  C:\\Windows\\SysWOW64\\rundll32.exe   \n",
       "12  {8b54b755-5744-604f-d163-000000002a00}  C:\\Windows\\SysWOW64\\rundll32.exe   \n",
       "\n",
       "                     InitiatingProcessGuid  \n",
       "0   {8b54b755-561e-604f-c263-000000002a00}  \n",
       "1   {8b54b755-561e-604f-c263-000000002a00}  \n",
       "2   {8b54b755-561e-604f-c263-000000002a00}  \n",
       "3   {8b54b755-561e-604f-c263-000000002a00}  \n",
       "4   {8b54b755-561e-604f-c263-000000002a00}  \n",
       "5   {8b54b755-561e-604f-c263-000000002a00}  \n",
       "6   {8b54b755-561e-604f-c263-000000002a00}  \n",
       "7   {8b54b755-561e-604f-c263-000000002a00}  \n",
       "8   {8b54b755-561e-604f-c263-000000002a00}  \n",
       "9   {8b54b755-561e-604f-c263-000000002a00}  \n",
       "10  {8b54b755-561e-604f-c263-000000002a00}  \n",
       "11  {8b54b755-561e-604f-c263-000000002a00}  \n",
       "12  {8b54b755-561e-604f-c263-000000002a00}  "
      ]
     },
     "execution_count": 62,
     "metadata": {},
     "output_type": "execute_result"
    }
   ],
   "source": [
    "ProcessSearch"
   ]
  },
  {
   "cell_type": "markdown",
   "metadata": {},
   "source": [
    "# 2. Visualization with Networkx and Matplotlib"
   ]
  },
  {
   "cell_type": "markdown",
   "metadata": {},
   "source": [
    "## 2a. Compile the results into a single dictionary\n"
   ]
  },
  {
   "cell_type": "code",
   "execution_count": 65,
   "metadata": {},
   "outputs": [],
   "source": [
    "ParentChildRelationship = []\n",
    "ParentBuffer = []\n",
    "ChildBuffer = []\n",
    "Child = ProcessSearch[\"ProcessId\"].tolist() # Convert from a Pandas series to a list\n",
    "Parent = ProcessSearch[\"InitiatingProcessGuid\"].tolist()\n",
    "RelationshipBuffer = dict(zip(\n",
    "    Child,Parent\n",
    "    ))"
   ]
  },
  {
   "cell_type": "markdown",
   "metadata": {},
   "source": [
    "## 2b. Create a list of parent processes\n"
   ]
  },
  {
   "cell_type": "code",
   "execution_count": 66,
   "metadata": {},
   "outputs": [],
   "source": [
    "for ParentGUID in RelationshipBuffer.values(): # Children are the keys and parents are the values for the Python dictionary\n",
    "    if ParentGUID not in ParentBuffer: # If a parent is not in the parent buffer, add them\n",
    "        ParentBuffer.append(ParentGUID)"
   ]
  },
  {
   "cell_type": "markdown",
   "metadata": {},
   "source": [
    "## 2c. Enumerate ParentBuffer to create a new relationship list built of tuples \n",
    "> Creating a list of tuples ensures that NetworkX can read each of the parents and children as nodes and the process creation and edges"
   ]
  },
  {
   "cell_type": "code",
   "execution_count": 67,
   "metadata": {},
   "outputs": [],
   "source": [
    "for Position,ParentProcessValue in enumerate(ParentBuffer):\n",
    "    for Key,DictValue in RelationshipBuffer.items():\n",
    "        if ParentProcessValue == DictValue:\n",
    "            ParentChildRelationship.append((ParentProcessValue,Key))"
   ]
  },
  {
   "cell_type": "markdown",
   "metadata": {},
   "source": [
    "# 2d. Visualizng the Graph with NetworkX and Malplotlib"
   ]
  },
  {
   "cell_type": "code",
   "execution_count": 68,
   "metadata": {},
   "outputs": [
    {
     "data": {
      "image/png": "[encoded data removed]",
      "text/plain": [
       "<Figure size 936x432 with 1 Axes>"
      ]
     },
     "metadata": {},
     "output_type": "display_data"
    }
   ],
   "source": [
    "G=nx.DiGraph()\n",
    "G.add_edges_from(ParentChildRelationship)\n",
    "pos = hierarchy_pos(G)\n",
    "plt.figure(figsize=(13, 6)) \n",
    "nx.draw_networkx_nodes(G, pos, node_shape=\"None\")\n",
    "nx.draw_networkx_edges(G, pos)\n",
    "nx.draw_networkx_labels(G, pos)\n",
    "plt.show()"
   ]
  },
  {
   "cell_type": "markdown",
   "metadata": {},
   "source": [
    "# 3. Visualization with command lines"
   ]
  },
  {
   "cell_type": "markdown",
   "metadata": {},
   "source": [
    "## 3b. Compile the results into a single dictionary"
   ]
  },
  {
   "cell_type": "code",
   "execution_count": 70,
   "metadata": {},
   "outputs": [],
   "source": [
    "ChildCommandLine = ProcessSearch[\"ProcessCommandLine\"].tolist()\n",
    "ChildProcID = ProcessSearch[\"ProcessId\"].tolist()\n",
    "Child_Info = [(ChildCommandLine[i], ChildProcID[i]) for i in range(0, len(Child))]\n",
    "ParentGuid = ProcessSearch[\"InitiatingProcessGuid\"].tolist()\n",
    "RelationshipBuffer = dict(zip(\n",
    "    Child_Info,ParentGuid\n",
    "    ))"
   ]
  },
  {
   "cell_type": "markdown",
   "metadata": {},
   "source": [
    "## 3c. Create a list of parent processes"
   ]
  },
  {
   "cell_type": "code",
   "execution_count": 71,
   "metadata": {},
   "outputs": [],
   "source": [
    "ParentChildRelationshipDictionary = {}\n",
    "ParentBuffer = []\n",
    "\n",
    "for i in RelationshipBuffer.values():\n",
    "    if i not in ParentBuffer:\n",
    "        ParentBuffer.append(i)\n",
    "\n",
    "for Position,ParentProcessValue in enumerate(ParentBuffer):\n",
    "    ChildBuffer = []\n",
    "    for Key,DictValue in RelationshipBuffer.items():\n",
    "        if ParentProcessValue == DictValue:\n",
    "            ChildBuffer.append(Key)\n",
    "    ParentChildRelationshipDictionary.update({ParentProcessValue:ChildBuffer})\n"
   ]
  },
  {
   "cell_type": "markdown",
   "metadata": {},
   "source": [
    "## 3d. Visualize command lines with TreeLib\n",
    "```\n",
    "Parent GUID\n",
    "├── Child Proc ID\n",
    "    └── Child Commandline\n",
    "```"
   ]
  },
  {
   "cell_type": "code",
   "execution_count": 72,
   "metadata": {},
   "outputs": [
    {
     "name": "stdout",
     "output_type": "stream",
     "text": [
      "{8b54b755-561e-604f-c263-000000002a00}\n",
      "├── 10376\n",
      "│   └── C:\\WINDOWS\\system32\\cmd.exe /C psexec.exe -accepteula -d -s \\\\[redacted]-dc1 rundll32.exe c:\\windows\\19560.dll,StartW\n",
      "├── 10924\n",
      "│   └── C:\\WINDOWS\\system32\\cmd.exe /C c:\\windows\\sysnative\\nltest /domain_trusts\n",
      "├── 10980\n",
      "│   └── C:\\WINDOWS\\system32\\cmd.exe /C nltest /dclist:\n",
      "├── 13840\n",
      "│   └── C:\\WINDOWS\\system32\\cmd.exe /C whoami\n",
      "├── 13896\n",
      "│   └── C:\\WINDOWS\\system32\\cmd.exe /C nltest /dclist:\n",
      "├── 13900\n",
      "│   └── C:\\WINDOWS\\system32\\cmd.exe /C nltest /domain_trusts\n",
      "├── 2304\n",
      "│   └── C:\\WINDOWS\\system32\\cmd.exe /C gpupdate /force\n",
      "├── 4636\n",
      "│   └── C:\\WINDOWS\\system32\\cmd.exe /C copy 19560.dll \\\\[redacted]-dc1\\ADMIN$\\ /Y /Z\n",
      "├── 5320\n",
      "│   └── C:\\WINDOWS\\system32\\cmd.exe /C net group \"Domain Admins\" /dom\n",
      "├── 7076\n",
      "│   └── C:\\WINDOWS\\system32\\cmd.exe /C net group \"Enterprise admins\" /domain\n",
      "├── 7180\n",
      "│   └── C:\\WINDOWS\\system32\\cmd.exe /C c:\\windows\\sysnative\\nltest /dclist:\n",
      "├── 7368\n",
      "│   └── C:\\WINDOWS\\system32\\cmd.exe /C net group \"Domain admins\" /domain\n",
      "└── 8596\n",
      "    └── C:\\WINDOWS\\system32\\cmd.exe /C nltest /domain_trusts\n",
      "\n"
     ]
    }
   ],
   "source": [
    "from treelib import Node, Tree\n",
    "Tree = Tree()\n",
    "RootNode=\"\"\n",
    "for Key,DictValue in RelationshipBuffer.items():\n",
    "    RootNode = DictValue\n",
    "Tree.create_node(str(RootNode),str(RootNode)) # No parent means its the root node and there is only one key\n",
    "for index in ParentChildRelationshipDictionary.values():\n",
    "    for ChildInfo in index:\n",
    "        Tree.create_node(str(ChildInfo[1]),str(ChildInfo[1]), parent=RootNode)\n",
    "        Tree.create_node(str(ChildInfo[0]),parent=str(ChildInfo[1]))\n",
    "Tree.show()"
   ]
  },
  {
   "cell_type": "markdown",
   "metadata": {},
   "source": [
    "\n"
   ]
  }
 ],
 "metadata": {
  "kernelspec": {
   "display_name": "PySpark_Python3",
   "language": "python",
   "name": "pyspark3"
  },
  "language_info": {
   "codemirror_mode": {
    "name": "ipython",
    "version": 3
   },
   "file_extension": ".py",
   "mimetype": "text/x-python",
   "name": "python",
   "nbconvert_exporter": "python",
   "pygments_lexer": "ipython3",
   "version": "3.7.8"
  }
 },
 "nbformat": 4,
 "nbformat_minor": 4
}
